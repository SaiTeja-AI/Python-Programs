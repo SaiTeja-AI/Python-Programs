{
 "cells": [
  {
   "cell_type": "code",
   "execution_count": 7,
   "metadata": {},
   "outputs": [
    {
     "name": "stdout",
     "output_type": "stream",
     "text": [
      "Sorted array is:\n",
      "0\n",
      "2\n",
      "4\n",
      "4\n",
      "5\n",
      "6\n",
      "8\n",
      "9\n"
     ]
    }
   ],
   "source": [
    "#quick sort program in python\n",
    "\n",
    "def quick_sort(arr,start,end):\n",
    "    if start < end:\n",
    "        #return the index \n",
    "        q = partation(arr,start,end)\n",
    "        quick_sort(arr,start,q-1)\n",
    "        quick_sort(arr,q+1,end)\n",
    "def partation(arr,start,end):\n",
    "    #first pick last element as pivot\n",
    "    pivot = arr[end]\n",
    "    i = start -1\n",
    "    j = start\n",
    "    for j in range(start,end):\n",
    "        if arr[j] <= pivot:\n",
    "            #first increment i \n",
    "            i = i+1\n",
    "            #swap a[i] with a[j]\n",
    "            temp = arr[i]\n",
    "            arr[i] = arr[j]\n",
    "            arr[j] = temp\n",
    "    #finally swap a[i+1] with end return i+1\n",
    "    temp = arr[end]\n",
    "    arr[end] = arr[i+1]\n",
    "    arr[i+1] = temp\n",
    "    return i+1\n",
    "\n",
    "\n",
    "arr = [9,6,5,0,8,2,4,4]\n",
    "n = len(arr)\n",
    "quick_sort(arr,0,n-1) \n",
    "print (\"Sorted array is:\") \n",
    "for i in range(n): \n",
    "    print (\"%d\" %arr[i])\n",
    "    \n",
    "        \n",
    "        \n",
    "    \n",
    "        "
   ]
  },
  {
   "cell_type": "code",
   "execution_count": 15,
   "metadata": {},
   "outputs": [
    {
     "name": "stdout",
     "output_type": "stream",
     "text": [
      "0\n",
      "2\n",
      "4\n",
      "4\n",
      "5\n",
      "6\n",
      "8\n",
      "9\n"
     ]
    }
   ],
   "source": [
    "#merge sort\n",
    "def merge_sort(arr,start,end):\n",
    "    if start<end:\n",
    "        mid = int((start+end)/2)\n",
    "        merge_sort(arr,start,mid)\n",
    "        merge_sort(arr,mid+1,end)\n",
    "        merge(arr,start,mid,end)\n",
    "def merge(arr,start,mid,end):\n",
    "    \n",
    "    #\n",
    "    n1 = mid - start + 1\n",
    "    n2 = end - mid\n",
    "    \n",
    "    #create two temoparary arrays\n",
    "    L = [0]*n1\n",
    "    R = [0]*n2\n",
    "    \n",
    "    #now fill the arrays\n",
    "    for i in range(n1):\n",
    "        L[i] = arr[start + i]\n",
    "    for j in range(n2):\n",
    "        R[j] = arr[mid + j + 1]\n",
    "    #now intialize i,j,k\n",
    "    i = 0\n",
    "    j = 0\n",
    "    k = start\n",
    "    while i < n1 and j < n2:\n",
    "        if L[i] <= R[j]:\n",
    "            arr[k] = L[i]\n",
    "            i = i+1\n",
    "            k = k+1\n",
    "        else:\n",
    "            arr[k] = R[j]\n",
    "            j = j+1\n",
    "            k = k+1\n",
    "    while i < n1:\n",
    "        arr[k] = L[i]\n",
    "        i = i+1\n",
    "        k = k+1\n",
    "    while j < n2:\n",
    "        arr[k] = R[j]\n",
    "        j = j+1\n",
    "        k = k+1\n",
    "        \n",
    "        \n",
    "    \n",
    "    \n",
    "        \n",
    "    \n",
    "\n",
    "\n",
    "\n",
    "    \n",
    "arr = [9,6,5,0,8,2,4,4]\n",
    "n = len(arr)\n",
    "merge_sort(arr,0,n-1)\n",
    "for i in range(n):\n",
    "    print (\"%d\" %arr[i])"
   ]
  },
  {
   "cell_type": "code",
   "execution_count": null,
   "metadata": {},
   "outputs": [],
   "source": []
  },
  {
   "cell_type": "code",
   "execution_count": null,
   "metadata": {},
   "outputs": [],
   "source": []
  },
  {
   "cell_type": "code",
   "execution_count": null,
   "metadata": {},
   "outputs": [],
   "source": []
  },
  {
   "cell_type": "code",
   "execution_count": null,
   "metadata": {},
   "outputs": [],
   "source": []
  }
 ],
 "metadata": {
  "kernelspec": {
   "display_name": "Python 3",
   "language": "python",
   "name": "python3"
  },
  "language_info": {
   "codemirror_mode": {
    "name": "ipython",
    "version": 3
   },
   "file_extension": ".py",
   "mimetype": "text/x-python",
   "name": "python",
   "nbconvert_exporter": "python",
   "pygments_lexer": "ipython3",
   "version": "3.7.4"
  }
 },
 "nbformat": 4,
 "nbformat_minor": 2
}
